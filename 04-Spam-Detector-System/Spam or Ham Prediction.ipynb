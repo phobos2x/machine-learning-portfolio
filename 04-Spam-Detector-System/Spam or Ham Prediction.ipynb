{
 "cells": [
  {
   "cell_type": "markdown",
   "id": "db206421-be19-431b-b016-6eb0d81dda9f",
   "metadata": {},
   "source": [
    "# SMS Spam Detection Project\n",
    "\n",
    "In this project, we build a machine learning pipeline to detect spam SMS messages based on their text content.  \n",
    "We explore the dataset, clean the text data, create TF-IDF features, train multiple models, and save the best one."
   ]
  },
  {
   "cell_type": "markdown",
   "id": "359b9b62-2d9d-4f54-947c-0fdb9dc7a8c7",
   "metadata": {},
   "source": [
    "# Data Loading\n",
    "\n",
    "We load the SMS Spam Collection dataset directly from the UCI Machine Learning Repository."
   ]
  },
  {
   "cell_type": "code",
   "execution_count": 1,
   "id": "56ba6a14-e27c-45de-b1cf-2576d0022f05",
   "metadata": {},
   "outputs": [
    {
     "data": {
      "text/html": [
       "<div>\n",
       "<style scoped>\n",
       "    .dataframe tbody tr th:only-of-type {\n",
       "        vertical-align: middle;\n",
       "    }\n",
       "\n",
       "    .dataframe tbody tr th {\n",
       "        vertical-align: top;\n",
       "    }\n",
       "\n",
       "    .dataframe thead th {\n",
       "        text-align: right;\n",
       "    }\n",
       "</style>\n",
       "<table border=\"1\" class=\"dataframe\">\n",
       "  <thead>\n",
       "    <tr style=\"text-align: right;\">\n",
       "      <th></th>\n",
       "      <th>label</th>\n",
       "      <th>message</th>\n",
       "    </tr>\n",
       "  </thead>\n",
       "  <tbody>\n",
       "    <tr>\n",
       "      <th>0</th>\n",
       "      <td>ham</td>\n",
       "      <td>Go until jurong point, crazy.. Available only ...</td>\n",
       "    </tr>\n",
       "    <tr>\n",
       "      <th>1</th>\n",
       "      <td>ham</td>\n",
       "      <td>Ok lar... Joking wif u oni...</td>\n",
       "    </tr>\n",
       "    <tr>\n",
       "      <th>2</th>\n",
       "      <td>spam</td>\n",
       "      <td>Free entry in 2 a wkly comp to win FA Cup fina...</td>\n",
       "    </tr>\n",
       "    <tr>\n",
       "      <th>3</th>\n",
       "      <td>ham</td>\n",
       "      <td>U dun say so early hor... U c already then say...</td>\n",
       "    </tr>\n",
       "    <tr>\n",
       "      <th>4</th>\n",
       "      <td>ham</td>\n",
       "      <td>Nah I don't think he goes to usf, he lives aro...</td>\n",
       "    </tr>\n",
       "  </tbody>\n",
       "</table>\n",
       "</div>"
      ],
      "text/plain": [
       "  label                                            message\n",
       "0   ham  Go until jurong point, crazy.. Available only ...\n",
       "1   ham                      Ok lar... Joking wif u oni...\n",
       "2  spam  Free entry in 2 a wkly comp to win FA Cup fina...\n",
       "3   ham  U dun say so early hor... U c already then say...\n",
       "4   ham  Nah I don't think he goes to usf, he lives aro..."
      ]
     },
     "execution_count": 1,
     "metadata": {},
     "output_type": "execute_result"
    }
   ],
   "source": [
    "# Import necessary libraries\n",
    "import pandas as pd\n",
    "import seaborn as sns\n",
    "import matplotlib.pyplot as plt\n",
    "\n",
    "# Download dataset directly from UCI ML Repository\n",
    "data_url = \"https://raw.githubusercontent.com/justmarkham/pycon-2016-tutorial/master/data/sms.tsv\"\n",
    "\n",
    "# Load the dataset\n",
    "data = pd.read_csv(data_url, sep='\\t', header=None, names=['label', 'message'])\n",
    "\n",
    "# Quick look\n",
    "data.head()"
   ]
  },
  {
   "cell_type": "markdown",
   "id": "ffed5be8-96fa-4c34-8dfd-073cf011d6f3",
   "metadata": {},
   "source": [
    "# Data Exploration and Cleaning\n",
    "\n",
    "We check for missing values, explore class distribution, and map labels (ham = 0, spam = 1)."
   ]
  },
  {
   "cell_type": "code",
   "execution_count": 2,
   "id": "be55ffc1-a66b-40db-a81e-3f58868abfe2",
   "metadata": {},
   "outputs": [
    {
     "name": "stdout",
     "output_type": "stream",
     "text": [
      "Dataset has 5572 rows and 2 columns.\n",
      "\n",
      "Data Types and Null Values:\n",
      "<class 'pandas.core.frame.DataFrame'>\n",
      "RangeIndex: 5572 entries, 0 to 5571\n",
      "Data columns (total 2 columns):\n",
      " #   Column   Non-Null Count  Dtype \n",
      "---  ------   --------------  ----- \n",
      " 0   label    5572 non-null   object\n",
      " 1   message  5572 non-null   object\n",
      "dtypes: object(2)\n",
      "memory usage: 87.2+ KB\n",
      "None\n",
      "\n",
      "Missing Values:\n",
      " label      0\n",
      "message    0\n",
      "dtype: int64\n"
     ]
    }
   ],
   "source": [
    "# Basic dataset info\n",
    "print(f\"Dataset has {data.shape[0]} rows and {data.shape[1]} columns.\\n\")\n",
    "print(\"Data Types and Null Values:\")\n",
    "print(data.info())\n",
    "print(\"\\nMissing Values:\\n\", data.isnull().sum())"
   ]
  },
  {
   "cell_type": "code",
   "execution_count": 3,
   "id": "68463054-166e-45d7-ae27-35480c820ebb",
   "metadata": {},
   "outputs": [
    {
     "data": {
      "text/plain": [
       "label\n",
       "0    4825\n",
       "1     747\n",
       "Name: count, dtype: int64"
      ]
     },
     "execution_count": 3,
     "metadata": {},
     "output_type": "execute_result"
    }
   ],
   "source": [
    "# Map labels: ham -> 0, spam -> 1\n",
    "data['label'] = data['label'].map({'ham': 0, 'spam': 1})\n",
    "\n",
    "# Confirm mapping\n",
    "data['label'].value_counts()"
   ]
  },
  {
   "cell_type": "code",
   "execution_count": 4,
   "id": "8f51da9e-79f4-43ec-a69b-f4ff525ebfd8",
   "metadata": {},
   "outputs": [
    {
     "data": {
      "image/png": "[encoded data removed]",
      "text/plain": [
       "<Figure size 640x480 with 1 Axes>"
      ]
     },
     "metadata": {},
     "output_type": "display_data"
    }
   ],
   "source": [
    "# Plot class distribution\n",
    "sns.countplot(x='label', data=data)\n",
    "plt.title('Distribution of Spam vs Ham')\n",
    "plt.xticks([0, 1], ['Ham', 'Spam'])\n",
    "plt.show()"
   ]
  },
  {
   "cell_type": "markdown",
   "id": "d7f7976d-9e45-4ea1-9cf9-5cd71f0cf8db",
   "metadata": {},
   "source": [
    "# Text Preprocessing\n",
    "\n",
    "We clean the text by lowercasing, removing punctuation, and removing stopwords to prepare for vectorization."
   ]
  },
  {
   "cell_type": "code",
   "execution_count": 5,
   "id": "77f1a311-990d-4bee-ae19-a03a713a139d",
   "metadata": {},
   "outputs": [],
   "source": [
    "import string\n",
    "from nltk.corpus import stopwords\n",
    "\n",
    "def clean_text(text):\n",
    "    # Lowercase\n",
    "    text = text.lower()\n",
    "    \n",
    "    # Remove punctuation\n",
    "    text = ''.join([char for char in text if char not in string.punctuation])\n",
    "    \n",
    "    # Remove stopwords\n",
    "    words = text.split()\n",
    "    words = [word for word in words if word not in stopwords.words('english')]\n",
    "    \n",
    "    return ' '.join(words)"
   ]
  },
  {
   "cell_type": "code",
   "execution_count": 6,
   "id": "e5711cb8-e61c-4398-b066-bfc0aca0da64",
   "metadata": {},
   "outputs": [
    {
     "data": {
      "text/html": [
       "<div>\n",
       "<style scoped>\n",
       "    .dataframe tbody tr th:only-of-type {\n",
       "        vertical-align: middle;\n",
       "    }\n",
       "\n",
       "    .dataframe tbody tr th {\n",
       "        vertical-align: top;\n",
       "    }\n",
       "\n",
       "    .dataframe thead th {\n",
       "        text-align: right;\n",
       "    }\n",
       "</style>\n",
       "<table border=\"1\" class=\"dataframe\">\n",
       "  <thead>\n",
       "    <tr style=\"text-align: right;\">\n",
       "      <th></th>\n",
       "      <th>message</th>\n",
       "      <th>cleaned_message</th>\n",
       "    </tr>\n",
       "  </thead>\n",
       "  <tbody>\n",
       "    <tr>\n",
       "      <th>0</th>\n",
       "      <td>Go until jurong point, crazy.. Available only ...</td>\n",
       "      <td>go jurong point crazy available bugis n great ...</td>\n",
       "    </tr>\n",
       "    <tr>\n",
       "      <th>1</th>\n",
       "      <td>Ok lar... Joking wif u oni...</td>\n",
       "      <td>ok lar joking wif u oni</td>\n",
       "    </tr>\n",
       "    <tr>\n",
       "      <th>2</th>\n",
       "      <td>Free entry in 2 a wkly comp to win FA Cup fina...</td>\n",
       "      <td>free entry 2 wkly comp win fa cup final tkts 2...</td>\n",
       "    </tr>\n",
       "    <tr>\n",
       "      <th>3</th>\n",
       "      <td>U dun say so early hor... U c already then say...</td>\n",
       "      <td>u dun say early hor u c already say</td>\n",
       "    </tr>\n",
       "    <tr>\n",
       "      <th>4</th>\n",
       "      <td>Nah I don't think he goes to usf, he lives aro...</td>\n",
       "      <td>nah dont think goes usf lives around though</td>\n",
       "    </tr>\n",
       "  </tbody>\n",
       "</table>\n",
       "</div>"
      ],
      "text/plain": [
       "                                             message  \\\n",
       "0  Go until jurong point, crazy.. Available only ...   \n",
       "1                      Ok lar... Joking wif u oni...   \n",
       "2  Free entry in 2 a wkly comp to win FA Cup fina...   \n",
       "3  U dun say so early hor... U c already then say...   \n",
       "4  Nah I don't think he goes to usf, he lives aro...   \n",
       "\n",
       "                                     cleaned_message  \n",
       "0  go jurong point crazy available bugis n great ...  \n",
       "1                            ok lar joking wif u oni  \n",
       "2  free entry 2 wkly comp win fa cup final tkts 2...  \n",
       "3                u dun say early hor u c already say  \n",
       "4        nah dont think goes usf lives around though  "
      ]
     },
     "execution_count": 6,
     "metadata": {},
     "output_type": "execute_result"
    }
   ],
   "source": [
    "# Apply cleaning function\n",
    "data['cleaned_message'] = data['message'].apply(clean_text)\n",
    "\n",
    "# Quick look\n",
    "data[['message', 'cleaned_message']].head()"
   ]
  },
  {
   "cell_type": "markdown",
   "id": "2208f03e-77bc-40a6-944f-f0392b4efab1",
   "metadata": {},
   "source": [
    "# Feature Engineering (TF-IDF)\n",
    "\n",
    "We use TF-IDF vectorization to create numerical feature vectors that weigh rare but important words more heavily."
   ]
  },
  {
   "cell_type": "code",
   "execution_count": 7,
   "id": "3ea4baf6-2b05-4894-834c-8e6f12eb8668",
   "metadata": {},
   "outputs": [],
   "source": [
    "from sklearn.feature_extraction.text import TfidfVectorizer\n",
    "from sklearn.model_selection import train_test_split"
   ]
  },
  {
   "cell_type": "code",
   "execution_count": 8,
   "id": "2938d89b-4fbb-4f47-bfd0-ceedacaf019d",
   "metadata": {},
   "outputs": [
    {
     "name": "stdout",
     "output_type": "stream",
     "text": [
      "Training samples: 4457\n",
      "Testing samples: 1115\n"
     ]
    }
   ],
   "source": [
    "# Define features and labels\n",
    "X = data['cleaned_message']\n",
    "y = data['label']\n",
    "\n",
    "# Split into training and testing sets (80% train, 20% test)\n",
    "X_train, X_test, y_train, y_test = train_test_split(\n",
    "    X, y, test_size=0.2, random_state=42, stratify=y\n",
    ")\n",
    "\n",
    "print(f\"Training samples: {X_train.shape[0]}\")\n",
    "print(f\"Testing samples: {X_test.shape[0]}\")"
   ]
  },
  {
   "cell_type": "code",
   "execution_count": 9,
   "id": "bed62ce8-d6e8-4181-9dfa-46c2cadde751",
   "metadata": {},
   "outputs": [],
   "source": [
    "# Initialize TF-IDF Vectorizer\n",
    "tfidf = TfidfVectorizer(max_features=3000)\n",
    "\n",
    "# Fit on training data, transform both train and test\n",
    "X_train_tfidf = tfidf.fit_transform(X_train)\n",
    "X_test_tfidf = tfidf.transform(X_test)"
   ]
  },
  {
   "cell_type": "markdown",
   "id": "d498dd53-bbcd-4ca8-8488-65b1a9139a51",
   "metadata": {},
   "source": [
    "# Train and Evaluate Models\n",
    "\n",
    "We train Naive Bayes, Logistic Regression, and Random Forest classifiers, and evaluate their performance using Accuracy, Precision, Recall, and F1-Score."
   ]
  },
  {
   "cell_type": "code",
   "execution_count": 10,
   "id": "708ee81d-779d-4565-ac52-04ae74877ebd",
   "metadata": {},
   "outputs": [],
   "source": [
    "from sklearn.metrics import accuracy_score, precision_score, recall_score, f1_score, confusion_matrix\n",
    "\n",
    "def evaluate_model(y_true, y_pred):\n",
    "    print(f\"Accuracy: {accuracy_score(y_true, y_pred):.4f}\")\n",
    "    print(f\"Precision: {precision_score(y_true, y_pred):.4f}\")\n",
    "    print(f\"Recall: {recall_score(y_true, y_pred):.4f}\")\n",
    "    print(f\"F1-Score: {f1_score(y_true, y_pred):.4f}\")\n",
    "    print(\"Confusion Matrix:\")\n",
    "    print(confusion_matrix(y_true, y_pred))"
   ]
  },
  {
   "cell_type": "code",
   "execution_count": 11,
   "id": "7bd248fd-ad31-47b0-be11-4fafbce07f33",
   "metadata": {},
   "outputs": [
    {
     "name": "stdout",
     "output_type": "stream",
     "text": [
      "Naive Bayes Results:\n",
      "Accuracy: 0.9713\n",
      "Precision: 0.9916\n",
      "Recall: 0.7919\n",
      "F1-Score: 0.8806\n",
      "Confusion Matrix:\n",
      "[[965   1]\n",
      " [ 31 118]]\n"
     ]
    }
   ],
   "source": [
    "from sklearn.naive_bayes import MultinomialNB\n",
    "\n",
    "# Train Naive Bayes\n",
    "nb = MultinomialNB()\n",
    "nb.fit(X_train_tfidf, y_train)\n",
    "\n",
    "# Predict\n",
    "nb_preds = nb.predict(X_test_tfidf)\n",
    "\n",
    "# Evaluate\n",
    "print(\"Naive Bayes Results:\")\n",
    "evaluate_model(y_test, nb_preds)"
   ]
  },
  {
   "cell_type": "code",
   "execution_count": 12,
   "id": "e1036915-db06-4eb5-92b9-82c4ce1cdc0c",
   "metadata": {},
   "outputs": [
    {
     "name": "stdout",
     "output_type": "stream",
     "text": [
      "\n",
      "Logistic Regression Results:\n",
      "Accuracy: 0.9677\n",
      "Precision: 1.0000\n",
      "Recall: 0.7584\n",
      "F1-Score: 0.8626\n",
      "Confusion Matrix:\n",
      "[[966   0]\n",
      " [ 36 113]]\n"
     ]
    }
   ],
   "source": [
    "from sklearn.linear_model import LogisticRegression\n",
    "\n",
    "# Train Logistic Regression\n",
    "lr = LogisticRegression(max_iter=1000)\n",
    "lr.fit(X_train_tfidf, y_train)\n",
    "\n",
    "# Predict\n",
    "lr_preds = lr.predict(X_test_tfidf)\n",
    "\n",
    "# Evaluate\n",
    "print(\"\\nLogistic Regression Results:\")\n",
    "evaluate_model(y_test, lr_preds)"
   ]
  },
  {
   "cell_type": "code",
   "execution_count": 13,
   "id": "b4e96f61-90ad-4ad5-a340-977a1575e177",
   "metadata": {},
   "outputs": [
    {
     "name": "stdout",
     "output_type": "stream",
     "text": [
      "\n",
      "Random Forest Results:\n",
      "Accuracy: 0.9785\n",
      "Precision: 1.0000\n",
      "Recall: 0.8389\n",
      "F1-Score: 0.9124\n",
      "Confusion Matrix:\n",
      "[[966   0]\n",
      " [ 24 125]]\n"
     ]
    }
   ],
   "source": [
    "from sklearn.ensemble import RandomForestClassifier\n",
    "\n",
    "# Train Random Forest\n",
    "rf = RandomForestClassifier(n_estimators=100, random_state=42)\n",
    "rf.fit(X_train_tfidf, y_train)\n",
    "\n",
    "# Predict\n",
    "rf_preds = rf.predict(X_test_tfidf)\n",
    "\n",
    "# Evaluate\n",
    "print(\"\\nRandom Forest Results:\")\n",
    "evaluate_model(y_test, rf_preds)"
   ]
  },
  {
   "cell_type": "markdown",
   "id": "6b92e3f7-21c7-49d3-bde7-92401b81d81e",
   "metadata": {},
   "source": [
    "# ROC-AUC Curves\n",
    "\n",
    "We plot ROC-AUC curves to visually compare the ability of each model to distinguish between spam and ham messages."
   ]
  },
  {
   "cell_type": "code",
   "execution_count": 14,
   "id": "c27323f4-1475-4fdd-aa5c-781e87b7f704",
   "metadata": {},
   "outputs": [],
   "source": [
    "from sklearn.metrics import roc_curve, auc"
   ]
  },
  {
   "cell_type": "code",
   "execution_count": 15,
   "id": "bed76522-4282-49c7-b0e1-99e877269958",
   "metadata": {},
   "outputs": [
    {
     "data": {
      "image/png": "[encoded data removed]",
      "text/plain": [
       "<Figure size 1000x800 with 1 Axes>"
      ]
     },
     "metadata": {},
     "output_type": "display_data"
    }
   ],
   "source": [
    "import matplotlib.pyplot as plt\n",
    "\n",
    "# Start plotting\n",
    "plt.figure(figsize=(10, 8))\n",
    "\n",
    "# Naive Bayes\n",
    "nb_probs = nb.predict_proba(X_test_tfidf)[:, 1]\n",
    "fpr1, tpr1, _ = roc_curve(y_test, nb_probs)\n",
    "auc1 = auc(fpr1, tpr1)\n",
    "plt.plot(fpr1, tpr1, label=f'Naive Bayes (AUC = {auc1:.2f})')\n",
    "\n",
    "# Logistic Regression\n",
    "lr_probs = lr.predict_proba(X_test_tfidf)[:, 1]\n",
    "fpr2, tpr2, _ = roc_curve(y_test, lr_probs)\n",
    "auc2 = auc(fpr2, tpr2)\n",
    "plt.plot(fpr2, tpr2, label=f'Logistic Regression (AUC = {auc2:.2f})')\n",
    "\n",
    "# Random Forest\n",
    "rf_probs = rf.predict_proba(X_test_tfidf)[:, 1]\n",
    "fpr3, tpr3, _ = roc_curve(y_test, rf_probs)\n",
    "auc3 = auc(fpr3, tpr3)\n",
    "plt.plot(fpr3, tpr3, label=f'Random Forest (AUC = {auc3:.2f})')\n",
    "\n",
    "# Plot formatting\n",
    "plt.plot([0, 1], [0, 1], linestyle='--', color='black') # random guess line\n",
    "plt.title('ROC Curves for Spam Detection Models')\n",
    "plt.xlabel('False Positive Rate')\n",
    "plt.ylabel('True Positive Rate')\n",
    "plt.legend()\n",
    "plt.grid(True)\n",
    "plt.show()"
   ]
  },
  {
   "cell_type": "markdown",
   "id": "32297c22-2c90-4cf5-b759-52adf44e962d",
   "metadata": {},
   "source": [
    "# Final Model Selection and Saving\n",
    "\n",
    "Based on the evaluation metrics, we select the best model and save it for future use."
   ]
  },
  {
   "cell_type": "code",
   "execution_count": 16,
   "id": "ce812416-bacc-437e-9b5d-7407da0db1c2",
   "metadata": {},
   "outputs": [
    {
     "name": "stdout",
     "output_type": "stream",
     "text": [
      "                 Model       AUC\n",
      "1  Logistic Regression  0.985997\n",
      "0          Naive Bayes  0.984781\n",
      "2        Random Forest  0.983617\n"
     ]
    }
   ],
   "source": [
    "import pandas as pd\n",
    "\n",
    "# Create a simple results summary (you can fill in with your actual values if you want)\n",
    "results = pd.DataFrame({\n",
    "    'Model': ['Naive Bayes', 'Logistic Regression', 'Random Forest'],\n",
    "    'AUC': [auc1, auc2, auc3]\n",
    "})\n",
    "\n",
    "# Sort by AUC\n",
    "results = results.sort_values(by='AUC', ascending=False)\n",
    "\n",
    "print(results)"
   ]
  },
  {
   "cell_type": "code",
   "execution_count": 17,
   "id": "116bd66e-194d-48cb-8d78-27d48a307dc1",
   "metadata": {},
   "outputs": [
    {
     "name": "stdout",
     "output_type": "stream",
     "text": [
      "Best model saved as 'spam_detector_best_model.pkl'.\n"
     ]
    }
   ],
   "source": [
    "import joblib\n",
    "\n",
    "# Save Logistic Regression model\n",
    "joblib.dump(lr, 'spam_detector_best_model.pkl')\n",
    "\n",
    "print(\"Best model saved as 'spam_detector_best_model.pkl'.\")"
   ]
  },
  {
   "cell_type": "markdown",
   "id": "7b3e7ceb-7242-455d-bb2d-b7530984a8af",
   "metadata": {},
   "source": [
    "# Conclusion\n",
    "\n",
    "In this project, Logistic Regression achieved the highest AUC and best overall spam detection performance.\n",
    "\n",
    "Key learnings:\n",
    "- Proper text preprocessing significantly improves classification performance.\n",
    "- TF-IDF vectorization is a powerful technique for feature engineering in NLP tasks.\n",
    "- Comparing multiple models (and not relying only on accuracy) gives better real-world results.\n",
    "\n",
    "Future improvements could include:\n",
    "- Hyperparameter tuning,\n",
    "- Trying deep learning models (e.g., simple LSTM),\n",
    "- Deploying the model into a web app (using Streamlit or Flask)."
   ]
  },
  {
   "cell_type": "code",
   "execution_count": null,
   "id": "1ab8c2df-50c3-45cc-b606-b55161e1a8ba",
   "metadata": {},
   "outputs": [],
   "source": []
  }
 ],
 "metadata": {
  "kernelspec": {
   "display_name": "Python 3 (ipykernel)",
   "language": "python",
   "name": "python3"
  },
  "language_info": {
   "codemirror_mode": {
    "name": "ipython",
    "version": 3
   },
   "file_extension": ".py",
   "mimetype": "text/x-python",
   "name": "python",
   "nbconvert_exporter": "python",
   "pygments_lexer": "ipython3",
   "version": "3.12.4"
  }
 },
 "nbformat": 4,
 "nbformat_minor": 5
}
